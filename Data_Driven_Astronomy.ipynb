{
 "cells": [
  {
   "cell_type": "markdown",
   "metadata": {},
   "source": [
    "<h1><center>Data Analysis - Astronomy</center></h1>"
   ]
  },
  {
   "cell_type": "markdown",
   "metadata": {},
   "source": [
    "<center><b>Mean_datasets</b> function that reads in a list of CSV files and returns an array of the mean of each cell in the data files.</center>\n",
    "\n",
    "The files each contain n rows and m columns, giving a total of n x m cells. The individual cells are separated by commas, and all CSV files in the list will have the same number of rows and columns."
   ]
  },
  {
   "cell_type": "code",
   "execution_count": null,
   "metadata": {},
   "outputs": [],
   "source": [
    "import numpy as np\n",
    "from astropy.io import fits\n",
    "import matplotlib.pyplot as plt\n",
    "%matplotlib inline"
   ]
  },
  {
   "cell_type": "code",
   "execution_count": null,
   "metadata": {},
   "outputs": [],
   "source": [
    "def mean_datasets(arr):\n",
    "    ar = []; \n",
    "    for i in range(len(arr)):\n",
    "        ar.append(np.loadtxt(arr[i],delimiter = ','))\n",
    "    ar = np.asarray(ar,dtype = float)\n",
    "    m = np.zeros(shape = (ar[0].shape))\n",
    "    cnt = 0\n",
    "    for i in range(len(arr)):\n",
    "        m = m + ar[i]\n",
    "        cnt += 1 \n",
    "    m = np.round(m/cnt,1)\n",
    "    return m"
   ]
  },
  {
   "cell_type": "markdown",
   "metadata": {},
   "source": [
    "### Flexible Image Transport\n",
    "One of the most widely used formats for astronomical images is the <b>Flexible Image Transport System</b>. In a <a href = 'https://en.wikipedia.org/wiki/FITS'>FITS</a> file, the image is stored in a numerical array, which we can load into a NumPy array.\n",
    "\n",
    "<p>FITS files also have headers which store metadata about the image.\n",
    "\n",
    "FITS files are a standard format and astronomers have developed many libraries (in many programming languages) that can read and write FITS files. We're going to use the Astropy module.</p>"
   ]
  },
  {
   "cell_type": "code",
   "execution_count": null,
   "metadata": {},
   "outputs": [],
   "source": [
    "hdulist = fits.open('/home/Tesla/Programming/Data_Astro/fits_images_all/image1.fits')\n",
    "data = hdulist[0].data\n",
    "\n",
    "#Visualising the data\n",
    "plt.imshow(data,cmap=plt.cm.viridis)\n",
    "plt.colorbar()\n",
    "plt.show()"
   ]
  },
  {
   "cell_type": "markdown",
   "metadata": {},
   "source": [
    "<h3> Finding the index of the maximum value in the image array</h3>"
   ]
  },
  {
   "cell_type": "code",
   "execution_count": null,
   "metadata": {},
   "outputs": [],
   "source": [
    "def load_fits(file):\n",
    "    hdulist = fits.open(file)\n",
    "    data = hdulist[0].data\n",
    "    index = np.unravel_index(data.argmax(), data.shape)\n",
    "    return index"
   ]
  },
  {
   "cell_type": "markdown",
   "metadata": {},
   "source": [
    "<h3>Stacking various fits images to reduce the signal noise ratio and detect a pulsar</h3>"
   ]
  },
  {
   "cell_type": "code",
   "execution_count": null,
   "metadata": {},
   "outputs": [],
   "source": [
    "def mean_fits(arr_fits):\n",
    "    ar = []\n",
    "    for i in range(len(arr_fits)):\n",
    "        ar.append(fits.open(arr_fits[i])[0].data)\n",
    "    m = np.zeros(shape = (ar[0].shape))\n",
    "    cnt = 0\n",
    "    for i in range(len(arr_fits)):\n",
    "        m += ar[i]; cnt += 1\n",
    "    m /= cnt\n",
    "    return m"
   ]
  },
  {
   "cell_type": "markdown",
   "metadata": {},
   "source": [
    "### Equitorial coordinates\n",
    "Equatorial coordinates are fixed relative to the celestial sphere, so the positions are independent of when or where the observations took place. They are defined relative to the celestial equator (which is in the same plane as the Earth's equator) and the ecliptic (the path the sun traces throughout the year).\n",
    "\n",
    "A point on the celestial sphere is given by two coordinates:\n",
    "\n",
    "  <p><center><b>Right ascension</b>: the angle from the vernal equinox to the point, going east along the celestial equator<br>\n",
    "   <b>Declination</b>: the angle from the celestial equator to the point, going north (negative values indicate going south)</center></p>\n",
    "\n",
    "The vernal equinox is the intersection of the celestial equator and the ecliptic where the ecliptic rises above the celestial equator going further east. "
   ]
  },
  {
   "cell_type": "code",
   "execution_count": null,
   "metadata": {},
   "outputs": [],
   "source": [
    "def hms2dec(hrs,mn,s):\n",
    "    return (15*(hrs+mn/60+s/(60*60)))\n",
    "def dms2dec(deg,am,ars):\n",
    "    if deg > 0:\n",
    "        return(deg + am/60 + ars/(60*60))\n",
    "    else:\n",
    "        return (-1*(abs(deg) + am/60 + ars/(60*60)))"
   ]
  },
  {
   "cell_type": "markdown",
   "metadata": {},
   "source": [
    "### Angular Distance\n",
    "To crossmatch two catalogues we need to compare the angular distance between objects on the celestial sphere.\n",
    "\n",
    "People loosely call this a \"distance\", but technically its an angular distance: the projected angle between objects as seen from Earth.\n",
    "\n",
    "If we have an object on the celestial sphere with right ascension and declination ($\\alpha_1, \\delta_1$), then the angular distance to another object with coordinates ($\\alpha_2, \\delta_2$) is: $$d = 2 \\arcsin \\sqrt{ \\sin^2 \\frac{|\\delta_1 - \\delta_2|}{2} + \\cos \\delta_1 \\cos \\delta_2 \\sin^2 \\frac{|\\alpha_1 - \\alpha_2|}{2} }$$\n",
    "\n",
    "Angular distances have the same units as angles (degrees). There are other equations for calculating the angular distance but this one, called the <a href = 'https://en.wikipedia.org/wiki/Haversine_formula'>Haversine formula</a>, is good at avoiding floating point errors when the two points are close together. "
   ]
  },
  {
   "cell_type": "code",
   "execution_count": null,
   "metadata": {},
   "outputs": [],
   "source": [
    "import numpy as np\n",
    "\n",
    "# Write your angular_dist function here.\n",
    "def angular_dist(ra1,dec1,ra2,dec2):\n",
    "    ra1 = np.radians(ra1); dec1 = np.radians(dec1);\n",
    "    ra2 = np.radians(ra2); dec2 = np.radians(dec2)\n",
    "    a = np.sin(abs(dec2-dec1)/2); b = np.sin(abs(ra1-ra2)/2)\n",
    "    d = 2*np.arcsin(np.sqrt(a**2 + np.cos(dec1)*np.cos(dec2)*b**2))\n",
    "    d = np.degrees(d)\n",
    "    return d"
   ]
  },
  {
   "cell_type": "markdown",
   "metadata": {},
   "source": [
    "### Format of Astronomical Catalogue - Understanding the format\n",
    "\n",
    "\n",
    "\n",
    "Before we can crossmatch our two catalogues we first have to import the raw data. Every astronomy catalogue tends to have its own unique format so we'll need to look at how to do this with each one individually.\n",
    "\n",
    "We'll look at the AT20G bright source sample survey first. The raw data we'll be using is the file table2.dat from <a  href = 'http://cdsarc.u-strasbg.fr/viz-bin/Cat?J/MNRAS/384/775'>this page</a> in the VizieR archives, but we'll use the filename bss.dat from now on.\n",
    "\n",
    "Every catalogue in VizieR has a detailed README file that gives you the exact format of each table in the catalogue.\n"
   ]
  },
  {
   "cell_type": "markdown",
   "metadata": {},
   "source": [
    "### AT20G BSS catalogue - Catalogue of bright radio sources\n",
    "\n",
    "The catalogue is organised in fixed-width columns, with the format of the columns being:\n",
    "\n",
    "    1: Object catalogue ID number (sometimes with an asterisk)\n",
    "    2-4: Right ascension in HMS notation\n",
    "    5-7: Declination in DMS notation\n",
    "    8-: Other information, including spectral intensities\n",
    "### SuperCOSMOS all-sky catalogue\n",
    "\n",
    "The SuperCOSMOS all-sky catalogue is a catalogue of galaxies generated from several visible light surveys. \n",
    "The catalogue uses a comma-separated value (CSV) format. Aside from the first row, which contains column labels, the format is:\n",
    "\n",
    "    1: Right ascension in decimal degrees\n",
    "    2: Declination in decimal degrees\n",
    "    3: Other data, including magnitude and apparent shape\n"
   ]
  },
  {
   "cell_type": "code",
   "execution_count": null,
   "metadata": {},
   "outputs": [],
   "source": [
    "def import_bss():\n",
    "    bss_data = []\n",
    "    lst = np.loadtxt('Data/bss.dat', usecols = range(1,7))\n",
    "    for i in range(len(lst)):\n",
    "        bss_data.append((i+1,hms2dec(lst[i][0],lst[i][1],lst[i][2]),dms2dec(lst[i][3],lst[i][4],lst[i][5])))\n",
    "    return bss_data\n",
    "\n",
    "def import_super():\n",
    "    super_data = []\n",
    "    lst = np.loadtxt('Data/super.csv', delimiter = ',', skiprows = 1, usecols=[0,1])\n",
    "    for i in range(len(lst)):\n",
    "        super_data.append((i+1,lst[i][0],lst[i][1]))\n",
    "    return super_data"
   ]
  },
  {
   "cell_type": "code",
   "execution_count": null,
   "metadata": {},
   "outputs": [],
   "source": [
    "def find_closest(ar,ra,dec):\n",
    "    ang_dist = []\n",
    "    for i in range(len(ar)):\n",
    "        ang_dist.append((ar[i][0],angular_dist(ar[i][1],ar[i][2],ra,dec)))\n",
    "    return min(ang_dist, key = lambda x:x[1])"
   ]
  },
  {
   "cell_type": "markdown",
   "metadata": {},
   "source": [
    "## A Naive Cross-Matcher\n",
    "\n",
    "The process you should follow is:\n",
    "\n",
    "    Select an object from the BSS catalogue;\n",
    "    Go through all the objects in SuperCOSMOS and find the closest one to the BSS object;\n",
    "    If the objects are close enough, record the match;\n",
    "    Repeat 1-3 for all the other objects in the BSS catalogue.\n",
    "\n",
    "In step 3, if the closest object isn't within a given distance then it's unlikely that the two objects are actually counterparts, and it's more likely that they just happen to be nearby.\n",
    "\n",
    "The given distance you choose depends on the uncertainty of the measured object positions in each catalogue. "
   ]
  },
  {
   "cell_type": "code",
   "execution_count": null,
   "metadata": {},
   "outputs": [],
   "source": [
    "def crossmatch(bss_cat,super_cat,max_dist):\n",
    "    matches, no_matches, mat = [],[],[]\n",
    "    for id1,ra1,dec1 in bss_cat:\n",
    "        min_d = np.inf\n",
    "        cat_id = id1\n",
    "        for id2,ra2,dec2 in super_cat:\n",
    "            d = angular_dist(ra1,dec1,ra2,dec2)\n",
    "            if d < min_d: \n",
    "                min_d = d\n",
    "                cat_id = id2\n",
    "\n",
    "        if min_d > max_dist:\n",
    "            no_matches.append(id1)\n",
    "        else:\n",
    "            matches.append((id1,cat_id,min_d))\n",
    "    return (matches,no_matches)"
   ]
  },
  {
   "cell_type": "code",
   "execution_count": null,
   "metadata": {},
   "outputs": [],
   "source": [
    "bss_cat = import_bss(); super_cat = import_super()\n",
    "match,no_match = crossmatch(bss_cat,super_cat,40/(60*60))"
   ]
  }
 ],
 "metadata": {
  "kernelspec": {
   "display_name": "Python 3",
   "language": "python",
   "name": "python3"
  },
  "language_info": {
   "codemirror_mode": {
    "name": "ipython",
    "version": 3
   },
   "file_extension": ".py",
   "mimetype": "text/x-python",
   "name": "python",
   "nbconvert_exporter": "python",
   "pygments_lexer": "ipython3",
   "version": "3.6.7"
  },
  "latex_envs": {
   "LaTeX_envs_menu_present": true,
   "autoclose": false,
   "autocomplete": true,
   "bibliofile": "biblio.bib",
   "cite_by": "apalike",
   "current_citInitial": 1,
   "eqLabelWithNumbers": true,
   "eqNumInitial": 1,
   "hotkeys": {
    "equation": "Ctrl-E",
    "itemize": "Ctrl-I"
   },
   "labels_anchors": false,
   "latex_user_defs": false,
   "report_style_numbering": false,
   "user_envs_cfg": false
  },
  "toc": {
   "base_numbering": 1,
   "nav_menu": {},
   "number_sections": false,
   "sideBar": true,
   "skip_h1_title": false,
   "title_cell": "Table of Contents",
   "title_sidebar": "Contents",
   "toc_cell": false,
   "toc_position": {},
   "toc_section_display": true,
   "toc_window_display": false
  }
 },
 "nbformat": 4,
 "nbformat_minor": 2
}
